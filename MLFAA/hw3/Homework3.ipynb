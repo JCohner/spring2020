{
 "cells": [
  {
   "cell_type": "markdown",
   "metadata": {},
   "source": [
    "# Homework #3\n",
    "Josh Cohen"
   ]
  },
  {
   "cell_type": "code",
   "execution_count": 1,
   "metadata": {},
   "outputs": [],
   "source": [
    "import sympy as sym\n",
    "import numpy as np\n",
    "%matplotlib notebook\n",
    "from matplotlib import pyplot as plt\n",
    "from IPython.display import Image\n",
    "import pandas as pd"
   ]
  },
  {
   "cell_type": "markdown",
   "metadata": {},
   "source": [
    "## Problem 6.5"
   ]
  },
  {
   "cell_type": "code",
   "execution_count": null,
   "metadata": {},
   "outputs": [],
   "source": []
  },
  {
   "cell_type": "markdown",
   "metadata": {},
   "source": [
    "## Problem 6.10"
   ]
  },
  {
   "cell_type": "code",
   "execution_count": null,
   "metadata": {},
   "outputs": [],
   "source": []
  },
  {
   "cell_type": "markdown",
   "metadata": {},
   "source": [
    "## Probelm 6.13\n",
    "\n",
    "Compare efficacy of Softmax vs Perceptron cost functions in terms of minimum number of misclassifications by pursuing gradient descent based minimization"
   ]
  },
  {
   "cell_type": "code",
   "execution_count": 61,
   "metadata": {},
   "outputs": [],
   "source": [
    "bc_df = pd.read_csv(\"breast_cancer_dataset.csv\", header=None, index_col=None).dropna(axis=0)\n"
   ]
  },
  {
   "cell_type": "code",
   "execution_count": 118,
   "metadata": {},
   "outputs": [],
   "source": [
    "yp = sym.symbols('y_p')\n",
    "xp_tilde = sym.MatrixSymbol('\\widetilde{x_p}', bc_df.shape[1], 1).as_explicit()\n",
    "w_tilde = sym.MatrixSymbol('\\widetilde{w}', bc_df.shape[1], 1).as_explicit()"
   ]
  },
  {
   "cell_type": "code",
   "execution_count": 119,
   "metadata": {},
   "outputs": [],
   "source": [
    "#percep\n",
    "cost = sym.Matrix([sym.log(1 + sym.exp(-yp * xp_tilde.T * w_tilde)[0])])\n",
    "grad_cost = cost.jacobian(w_tilde)\n",
    "cost_lam = sym.lambdify([yp, xp_tilde, w_tilde], cost)\n",
    "grad_cost_lam = sym.lambdify([yp, xp_tilde, w_tilde],grad_cost)\n",
    "# grad2_cost = grad_cost.jacobian(w_tilde)\n",
    "# grad2_cost_lam = sym.lambdify([yp, xp_tilde, w_tilde], grad2_cost)"
   ]
  },
  {
   "cell_type": "code",
   "execution_count": 120,
   "metadata": {},
   "outputs": [],
   "source": [
    "def p_cost(w_tilde):\n",
    "    cost_sum = 0\n",
    "    for i in range(bc_df.shape[0]):\n",
    "        cost_sum += cost_lam(bc_df.iloc[i,-1], np.array([1,*bc_df.iloc[i, :-1].to_numpy()]), w_tilde)  * 1/bc_df.shape[0]\n",
    "        \n",
    "    ans = np.squeeze(cost_sum,axis=1)\n",
    "    return ans"
   ]
  },
  {
   "cell_type": "code",
   "execution_count": 121,
   "metadata": {},
   "outputs": [],
   "source": [
    "def grad_p_cost(w_tilde):\n",
    "    grad_cost_sum = np.zeros(bc_df.shape[1])\n",
    "    for i in range(bc_df.shape[0]):\n",
    "#         thing = grad_cost_lam(bc_df.iloc[i,-1],np.array([1,*bc_df.iloc[i, :-1].to_numpy()]), w_tilde)\n",
    "#         print(thing.shape)  \n",
    "        grad_cost_sum += np.squeeze(grad_cost_lam(bc_df.iloc[i,-1],np.array([1,*bc_df.iloc[i, :-1].to_numpy()]), w_tilde), axis=0) * 1/bc_df.shape[0]\n",
    "#         print(grad_cost_sum.shape)\n",
    "    return grad_cost_sum "
   ]
  },
  {
   "cell_type": "code",
   "execution_count": 127,
   "metadata": {},
   "outputs": [],
   "source": [
    "def grad_2_p_cost(w_tilde):\n",
    "    grad_2_cost_sum = np.zeros((bc_df.shape[1],bc_df.shape[1]))\n",
    "    for i in range(bc_df.shape[0]):\n",
    "#         print(grad_2_cost_sum)\n",
    "        grad_2_cost_sum += grad2_cost_lam(bc_df.iloc[i,-1] , np.array([1,*bc_df.iloc[i, :-1].to_numpy()]) , w_tilde)\n",
    "    \n",
    "    return grad_2_cost_sum * 1/bc_df.shape[0]"
   ]
  },
  {
   "cell_type": "code",
   "execution_count": 130,
   "metadata": {},
   "outputs": [],
   "source": [
    "def grad_desc(w_last):\n",
    "    eps = 10e-3\n",
    "    cost_vals = np.zeros(3000)\n",
    "    num_its = 0\n",
    "    cost_vals[0] = p_cost(w_last)\n",
    "    grad_last = grad_p_cost(w_last)\n",
    "#     grad_2_last = grad_2_p_cost(w_last)\n",
    "    num_its += 1\n",
    "\n",
    "    while(np.linalg.norm(grad_last) > eps):\n",
    "#         w_next = w_last - np.matmul(np.linalg.inv(grad_2_last), grad_last)\n",
    "        w_next = w_last - .1 *grad_last\n",
    "        num_its += 1\n",
    "        if (num_its > 1000):\n",
    "            break;\n",
    "        \n",
    "        w_last = w_next\n",
    "        cost_vals[num_its] = p_cost(w_last)\n",
    "        grad_last = grad_p_cost(w_last)\n",
    "#         grad_2_last = grad_2_p_cost(w_last)\n",
    "        print(np.linalg.norm(grad_last))\n",
    "    \n",
    "    \n",
    "    return w_last, cost_vals, num_its"
   ]
  },
  {
   "cell_type": "code",
   "execution_count": null,
   "metadata": {},
   "outputs": [],
   "source": [
    "w_tilde = np.array([10, 1, 1, 1, 10, 1, 1, 1, 1, 1])\n",
    "w, costs, its = grad_desc(w_tilde) \n"
   ]
  },
  {
   "cell_type": "code",
   "execution_count": null,
   "metadata": {},
   "outputs": [],
   "source": [
    "w_last = np.array([10, 1, 1, 1, 10, 1, 1, 1, 1, 1])\n",
    "grad_last = grad_p_cost(w_last)\n",
    "grad_2_last = grad_2_p_cost(w_last)\n",
    "np.matmul(np.linalg.inv(grad_2_last), grad_last)"
   ]
  },
  {
   "cell_type": "code",
   "execution_count": null,
   "metadata": {},
   "outputs": [],
   "source": [
    "w_last = np.array([10, 1, 1, 1, 1, 1, 1, 1, 1, 1])\n",
    "\n",
    "grad_last = np.expand_dims(grad_p_cost(w_last),1)\n",
    "grad_2_last = grad_2_p_cost(w_last)\n",
    "print(grad_2_last)\n",
    "np.matmul(grad_2_last.T, grad_last)"
   ]
  },
  {
   "cell_type": "code",
   "execution_count": 148,
   "metadata": {},
   "outputs": [],
   "source": [
    "def misclass_calc_softmax(w_tilde):\n",
    "    miscalc = 0\n",
    "    for i in range(bc_df.shape[0]):\n",
    "        xp_tilde = np.array([1,*bc_df.iloc[i, :-1].to_numpy()])\n",
    "        yp = bc_df.iloc[i,-1]\n",
    "        if np.sign(np.matmul(xp_tilde.T, w_tilde)) != np.sign(yp):\n",
    "            miscalc +=1\n",
    "    \n",
    "    return miscalc"
   ]
  },
  {
   "cell_type": "code",
   "execution_count": 149,
   "metadata": {},
   "outputs": [
    {
     "data": {
      "text/plain": [
       "20"
      ]
     },
     "execution_count": 149,
     "metadata": {},
     "output_type": "execute_result"
    }
   ],
   "source": [
    "misclass_calc_softmax(w)"
   ]
  },
  {
   "cell_type": "code",
   "execution_count": 152,
   "metadata": {},
   "outputs": [],
   "source": [
    "def missclass_calc_perceptron(w_tilde):\n",
    "    miscalc = 0\n",
    "    for i in range(bc_df.shape[0]):\n",
    "        xp_tilde = np.array([1,*bc_df.iloc[i, :-1].to_numpy()])\n",
    "        yp = bc_df.iloc[i,-1]\n",
    "        if np.maximum(0, -yp * np.matmul(xp_tilde, w_tilde)) != 0:\n",
    "            miscalc += 1\n",
    "        \n",
    "    return miscalc"
   ]
  },
  {
   "cell_type": "code",
   "execution_count": 153,
   "metadata": {},
   "outputs": [
    {
     "data": {
      "text/plain": [
       "20"
      ]
     },
     "execution_count": 153,
     "metadata": {},
     "output_type": "execute_result"
    }
   ],
   "source": [
    "missclass_calc_perceptron(w)"
   ]
  },
  {
   "cell_type": "markdown",
   "metadata": {},
   "source": [
    "## Problem 6.15"
   ]
  },
  {
   "cell_type": "code",
   "execution_count": 301,
   "metadata": {},
   "outputs": [],
   "source": [
    "cd_df = pd.read_csv(\"credit_dataset.csv\", header=None, index_col=None).dropna(axis=0)"
   ]
  },
  {
   "cell_type": "code",
   "execution_count": 302,
   "metadata": {},
   "outputs": [],
   "source": [
    "cd_mean = cd_df.iloc[:-1,:].mean(axis=1)\n",
    "cd_std = cd_df.iloc[:-1,:].std(axis=1)\n",
    "cd_std_norm = cd_df.iloc[:-1,:].sub(cd_mean, axis=0).div(cd_std, axis=0)"
   ]
  },
  {
   "cell_type": "code",
   "execution_count": 303,
   "metadata": {},
   "outputs": [],
   "source": [
    "def setup_symbols(df, axis):\n",
    "    N = df.shape[axis]\n",
    "    yp = sym.symbols('y_p')\n",
    "    xp_tilde = sym.MatrixSymbol('\\widetilde{x_p}', N, 1).as_explicit()\n",
    "    w_tilde = sym.MatrixSymbol('\\widetilde{w}', N, 1).as_explicit()\n",
    "    \n",
    "    cost = sym.Matrix([sym.log(1 + sym.exp(-yp * xp_tilde.T * w_tilde)[0])])\n",
    "    grad_cost = cost.jacobian(w_tilde)\n",
    "    cost_lam = sym.lambdify([yp, xp_tilde, w_tilde], cost)\n",
    "    grad_cost_lam = sym.lambdify([yp, xp_tilde, w_tilde],grad_cost)\n",
    "#     grad2_cost = grad_cost.jacobian(w_tilde)\n",
    "#     grad2_cost_lam = sym.lambdify([yp, xp_tilde, w_tilde], grad2_cost)\n",
    "    \n",
    "    return cost_lam, grad_cost_lam, grad2_cost_lam"
   ]
  },
  {
   "cell_type": "code",
   "execution_count": 308,
   "metadata": {},
   "outputs": [],
   "source": [
    "#setup specific cost functions and link to df\n",
    "cost_lam, grad_cost_lam, grad2_cost_lam = setup_symbols(cd_df, 0)\n",
    "xp_tildes = cd_std_norm\n",
    "yps = cd_df.iloc[-1,:].to_numpy()\n",
    "df = cd_df\n",
    "N = df.shape[0]\n",
    "P = df.shape[1]"
   ]
  },
  {
   "cell_type": "code",
   "execution_count": 313,
   "metadata": {},
   "outputs": [],
   "source": [
    "def cost(w_tilde):\n",
    "    cost_sum = 0\n",
    "#     print(\"AHHHHH\")\n",
    "    for i in range(P):\n",
    "#         print(np.array([1,*xp_tildes.iloc[:,i].to_numpy()]).shape)\n",
    "        cost_sum += cost_lam(yps[i], np.array([1,*xp_tildes.iloc[:,i].to_numpy()]), w_tilde)  * 1/P\n",
    "        \n",
    "    ans = np.squeeze(cost_sum,axis=1)\n",
    "    return ans"
   ]
  },
  {
   "cell_type": "code",
   "execution_count": 314,
   "metadata": {},
   "outputs": [],
   "source": [
    "def grad_cost(w_tilde):\n",
    "    grad_cost_sum = np.zeros(N)\n",
    "    for i in range(P):\n",
    "        grad_cost_sum += np.squeeze(grad_cost_lam(yps[i], np.array([1,*xp_tildes.iloc[:,i].to_numpy()]), w_tilde), axis=0) * 1/P\n",
    "    return grad_cost_sum "
   ]
  },
  {
   "cell_type": "code",
   "execution_count": 315,
   "metadata": {},
   "outputs": [],
   "source": [
    "# def grad_2_p_cost(w_tilde):\n",
    "#     grad_2_cost_sum = np.zeros((cd_df.shape[0],cd_df.shape[0]))\n",
    "#     for i in range(bc_df.shape[0]):\n",
    "#         grad_2_cost_sum += grad2_cost_lam(bc_df.iloc[i,-1] , np.array([1,*bc_df.iloc[i, :-1].to_numpy()]) , w_tilde)\n",
    "    \n",
    "#     return grad_2_cost_sum * 1/df.shape[1]"
   ]
  },
  {
   "cell_type": "code",
   "execution_count": 318,
   "metadata": {},
   "outputs": [],
   "source": [
    "def grad_desc(w_last):\n",
    "    eps = 10e-3\n",
    "    cost_vals = np.zeros(3000)\n",
    "    num_its = 0\n",
    "    cost_vals[0] = cost(w_last)\n",
    "    grad_last = grad_cost(w_last)\n",
    "    num_its += 1\n",
    "\n",
    "    while(np.linalg.norm(grad_last) > eps):\n",
    "        w_next = w_last - .1 *grad_last\n",
    "        num_its += 1\n",
    "        if (num_its > 1000):\n",
    "            print(\"hit max its\")\n",
    "            break;\n",
    "        \n",
    "        w_last = w_next\n",
    "        cost_vals[num_its] = cost(w_last)\n",
    "        grad_last = grad_cost(w_last)\n",
    "        print(np.linalg.norm(grad_last))\n",
    "    \n",
    "    \n",
    "    return w_last, cost_vals, num_its"
   ]
  },
  {
   "cell_type": "code",
   "execution_count": null,
   "metadata": {},
   "outputs": [],
   "source": [
    "w_tilde = np.ones(21)\n",
    "w, costs, its = grad_desc(w_tilde)"
   ]
  },
  {
   "cell_type": "code",
   "execution_count": 320,
   "metadata": {},
   "outputs": [],
   "source": [
    "def confusion_matrix_gen(w_tilde):\n",
    "    confusion_matrix = pd.DataFrame(np.zeros((2,2)), index=[\"a_bad\", \"a_good\"], columns=[\"p_bad\", \"p_good\"]).astype('int')\n",
    "    for i in range(df.shape[1]):\n",
    "        xp_tilde = np.array([1,*xp_tildes.iloc[:,i].to_numpy()])\n",
    "        yp = yps[i]\n",
    "        #correctly predicted\n",
    "        if np.sign(np.matmul(xp_tilde.T, w_tilde)) == np.sign(yp):\n",
    "            #pg, ag\n",
    "            if (yp > 0):\n",
    "                confusion_matrix.loc[\"a_good\", \"p_good\"] += 1\n",
    "            else:\n",
    "                confusion_matrix.loc[\"a_bad\", \"p_bad\"] += 1\n",
    "                \n",
    "        else:\n",
    "            if (yp > 0):\n",
    "                confusion_matrix.loc[\"a_good\", \"p_bad\"] += 1\n",
    "            else:\n",
    "                confusion_matrix.loc[\"a_bad\", \"p_good\"] += 1\n",
    "                \n",
    "    return confusion_matrix"
   ]
  },
  {
   "cell_type": "code",
   "execution_count": 321,
   "metadata": {},
   "outputs": [],
   "source": [
    "confusion_matrix = confusion_matrix_gen(w)"
   ]
  },
  {
   "cell_type": "code",
   "execution_count": 322,
   "metadata": {},
   "outputs": [
    {
     "data": {
      "text/html": [
       "<div>\n",
       "<style scoped>\n",
       "    .dataframe tbody tr th:only-of-type {\n",
       "        vertical-align: middle;\n",
       "    }\n",
       "\n",
       "    .dataframe tbody tr th {\n",
       "        vertical-align: top;\n",
       "    }\n",
       "\n",
       "    .dataframe thead th {\n",
       "        text-align: right;\n",
       "    }\n",
       "</style>\n",
       "<table border=\"1\" class=\"dataframe\">\n",
       "  <thead>\n",
       "    <tr style=\"text-align: right;\">\n",
       "      <th></th>\n",
       "      <th>p_bad</th>\n",
       "      <th>p_good</th>\n",
       "    </tr>\n",
       "  </thead>\n",
       "  <tbody>\n",
       "    <tr>\n",
       "      <th>a_bad</th>\n",
       "      <td>146</td>\n",
       "      <td>154</td>\n",
       "    </tr>\n",
       "    <tr>\n",
       "      <th>a_good</th>\n",
       "      <td>76</td>\n",
       "      <td>624</td>\n",
       "    </tr>\n",
       "  </tbody>\n",
       "</table>\n",
       "</div>"
      ],
      "text/plain": [
       "        p_bad  p_good\n",
       "a_bad     146     154\n",
       "a_good     76     624"
      ]
     },
     "execution_count": 322,
     "metadata": {},
     "output_type": "execute_result"
    }
   ],
   "source": [
    "confusion_matrix"
   ]
  },
  {
   "cell_type": "code",
   "execution_count": 323,
   "metadata": {},
   "outputs": [],
   "source": [
    "acurracy = 1 - (confusion_matrix.loc[\"a_good\", \"p_bad\"] + confusion_matrix.loc[\"a_bad\", \"p_good\"])/1000"
   ]
  },
  {
   "cell_type": "code",
   "execution_count": 324,
   "metadata": {},
   "outputs": [
    {
     "data": {
      "text/plain": [
       "0.77"
      ]
     },
     "execution_count": 324,
     "metadata": {},
     "output_type": "execute_result"
    }
   ],
   "source": [
    "acurracy"
   ]
  },
  {
   "cell_type": "code",
   "execution_count": null,
   "metadata": {},
   "outputs": [],
   "source": []
  },
  {
   "cell_type": "markdown",
   "metadata": {},
   "source": [
    "## Probelm 6.16"
   ]
  },
  {
   "cell_type": "code",
   "execution_count": null,
   "metadata": {},
   "outputs": [],
   "source": []
  }
 ],
 "metadata": {
  "kernelspec": {
   "display_name": "Python 3",
   "language": "python",
   "name": "python3"
  },
  "language_info": {
   "codemirror_mode": {
    "name": "ipython",
    "version": 3
   },
   "file_extension": ".py",
   "mimetype": "text/x-python",
   "name": "python",
   "nbconvert_exporter": "python",
   "pygments_lexer": "ipython3",
   "version": "3.6.9"
  }
 },
 "nbformat": 4,
 "nbformat_minor": 4
}
