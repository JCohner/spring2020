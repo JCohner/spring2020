{
 "cells": [
  {
   "cell_type": "markdown",
   "metadata": {},
   "source": [
    "# Homework 6\n",
    "Josh Cohen"
   ]
  },
  {
   "cell_type": "code",
   "execution_count": 65,
   "metadata": {},
   "outputs": [],
   "source": [
    "import numpy as np\n",
    "import sympy as sym\n",
    "import pandas as pd\n",
    "%matplotlib notebook\n",
    "from matplotlib import pyplot as plt\n",
    "from scipy.optimize import minimize\n",
    "from scipy.integrate import solve_ivp, solve_bvp, trapz"
   ]
  },
  {
   "cell_type": "markdown",
   "metadata": {},
   "source": [
    "## Problem 1\n",
    "Demonstrate numerically that the optimal solution obtained by the Riccati equation form Homework 5 problem 4 is indeed optimal. Evaluate the directional derivative of $J$ at $(x_{sol}(t), u_{sol}(t))$ in 10 different directions. Make a table of the 10 directions and the corresponding value of the directional derivative."
   ]
  },
  {
   "cell_type": "code",
   "execution_count": 162,
   "metadata": {},
   "outputs": [],
   "source": [
    "optSoln = pd.read_csv(\"optSolnP4.csv\", header=0, index_col=0)"
   ]
  },
  {
   "cell_type": "code",
   "execution_count": 163,
   "metadata": {},
   "outputs": [],
   "source": [
    "x_opt = optSoln.loc[\"x0\":\"x1\"].to_numpy()\n",
    "u_opt = np.expand_dims(optSoln.loc[\"u\"].to_numpy(),0)\n",
    "t_vec = optSoln.loc[\"t\"].to_numpy()"
   ]
  },
  {
   "cell_type": "code",
   "execution_count": 164,
   "metadata": {},
   "outputs": [],
   "source": [
    "t, A_sym, B_sym, C_sym, D_sym = sym.symbols('t A B C D')\n",
    "v_gen = A_sym * sym.sin(B_sym*t + C_sym) + D_sym"
   ]
  },
  {
   "cell_type": "code",
   "execution_count": 165,
   "metadata": {},
   "outputs": [],
   "source": [
    "def get_rand_v():\n",
    "    randos = np.random.rand(4)\n",
    "    return v_gen.subs({A_sym:randos[0], B_sym:randos[1], C_sym:randos[2], D_sym:randos[3]})"
   ]
  },
  {
   "cell_type": "code",
   "execution_count": 174,
   "metadata": {},
   "outputs": [],
   "source": [
    "Q = sym.Matrix([[2,0],[0,0.01]])\n",
    "R = sym.Matrix([0.1])\n",
    "P1 = sym.Matrix([[1,0],[0,0.01]])\n",
    "\n",
    "x0 = sym.Function('x_0')(t)\n",
    "x1 = sym.Function('x_1')(t)\n",
    "z0 = sym.Function('z_0')(t)\n",
    "z1 = sym.Function('z_1')(t)\n",
    "\n",
    "x = sym.Matrix([x0, x1])\n",
    "z = sym.Matrix([z0, z1])\n",
    "\n",
    "x_fin = sym.MatrixSymbol('x(T)', 2, 1).as_explicit()\n",
    "z_fin = sym.MatrixSymbol('z(T)', 2, 1).as_explicit()\n",
    "x_init = sym.Matrix([10,0]) #possibly want this to be zeros\n",
    "z_init = np.zeros((2,1))\n",
    "\n",
    "A = sym.Matrix([[0,1],[-1.6,-0.4]])\n",
    "B = sym.Matrix([0,1]) \n",
    "\n",
    "u0 = sym.Function('u_0')(t)\n",
    "v0 = sym.Function('v_0')(t)\n",
    "u = sym.Matrix([u0])\n",
    "v = sym.Matrix([v0])\n",
    "b = u.T * R\n",
    "\n",
    "xdot = A * x + B * u\n",
    "\n",
    "p = sym.Matrix([sym.Function('p_0')(t), sym.Function('p_1')(t)])\n",
    "p_fin = sym.MatrixSymbol('p_{1}', 2, 1).as_explicit()\n",
    "pdot = -A.T * p - Q*x"
   ]
  },
  {
   "cell_type": "code",
   "execution_count": 214,
   "metadata": {},
   "outputs": [],
   "source": [
    "v_pert = sym.Matrix([get_rand_v()])\n",
    "pert_init = np.concatenate((z_init, v_pert.subs(t,0)))\n",
    "zdot = A * z + B * v_pert \n",
    "pert = sym.Matrix([z,v])\n",
    "zdot_lam = sym.lambdify([t, pert], sym.flatten(sym.Matrix([zdot, v_pert])))"
   ]
  },
  {
   "cell_type": "code",
   "execution_count": 215,
   "metadata": {},
   "outputs": [],
   "source": [
    "ans = solve_ivp(zdot_lam, (0, 10), pert_init.flatten(), t_eval=t_vec)"
   ]
  },
  {
   "cell_type": "code",
   "execution_count": 216,
   "metadata": {},
   "outputs": [],
   "source": [
    "zed = ans.y[:2,:]\n",
    "v_lam = sym.lambdify(t,v_pert)\n",
    "ved = np.expand_dims(v_lam(t_vec).flatten(),0)"
   ]
  },
  {
   "cell_type": "code",
   "execution_count": 217,
   "metadata": {},
   "outputs": [],
   "source": [
    "J_dd_integrand = np.zeros(zed.shape[1])\n",
    "for i in range(zed.shape[1]) :\n",
    "    J_dd_integrand[i] = np.matmul(np.matmul(x_opt[:,i].T, Q), zed[:,i]) \\\n",
    "                                    + np.matmul(np.matmul(u_opt[:,i].T, R), ved[:,i])"
   ]
  },
  {
   "cell_type": "code",
   "execution_count": 218,
   "metadata": {},
   "outputs": [],
   "source": [
    "J_dd_term = np.matmul(np.matmul(x_opt[:,-1].T, P1), zed[:,-1])"
   ]
  },
  {
   "cell_type": "code",
   "execution_count": 219,
   "metadata": {},
   "outputs": [
    {
     "data": {
      "text/latex": [
       "$\\displaystyle -0.00963582260126982$"
      ],
      "text/plain": [
       "-0.00963582260126982"
      ]
     },
     "execution_count": 219,
     "metadata": {},
     "output_type": "execute_result"
    }
   ],
   "source": [
    "trapz(J_dd_integrand, t_vec) + J_dd_term"
   ]
  },
  {
   "cell_type": "markdown",
   "metadata": {},
   "source": [
    "# Probelm 2\n",
    "Compute the control $u(t)$ that minimizes the given cost function subject to the given constraint and desired trajectory"
   ]
  },
  {
   "cell_type": "code",
   "execution_count": null,
   "metadata": {},
   "outputs": [],
   "source": []
  }
 ],
 "metadata": {
  "kernelspec": {
   "display_name": "Python 3",
   "language": "python",
   "name": "python3"
  },
  "language_info": {
   "codemirror_mode": {
    "name": "ipython",
    "version": 3
   },
   "file_extension": ".py",
   "mimetype": "text/x-python",
   "name": "python",
   "nbconvert_exporter": "python",
   "pygments_lexer": "ipython3",
   "version": "3.6.9"
  }
 },
 "nbformat": 4,
 "nbformat_minor": 4
}
