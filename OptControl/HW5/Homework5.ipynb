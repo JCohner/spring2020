{
 "cells": [
  {
   "cell_type": "markdown",
   "metadata": {},
   "source": [
    "# Homework #5\n",
    "Josh Cohen"
   ]
  },
  {
   "cell_type": "code",
   "execution_count": 2,
   "metadata": {},
   "outputs": [],
   "source": [
    "import numpy as np\n",
    "import sympy as sym\n",
    "%matplotlib notebook\n",
    "from matplotlib import pyplot as plt\n",
    "from scipy.optimize import minimize\n",
    "from scipy.integrate import solve_ivp, solve_bvp"
   ]
  },
  {
   "cell_type": "markdown",
   "metadata": {},
   "source": [
    "## Problem 1\n",
    "Show that the STM solves the ODE $\\dot{x} = Ax$ with $x(0) = x_0$ and $A = \\begin{bmatrix} -1 & 0 \\\\ 1 & 2 \\end{bmatrix}$ and $x_0 = \\begin{bmatrix} 1 \\\\ 1 \\end{bmatrix} $\n",
    "\n",
    "Turn on solution for $x(0.5)$ and $\\phi(0.5)x_0$ "
   ]
  },
  {
   "cell_type": "code",
   "execution_count": 3,
   "metadata": {},
   "outputs": [],
   "source": [
    "t, t0 = sym.symbols('t t_0')\n",
    "x0 = sym.Function('x_0')(t)\n",
    "x1 = sym.Function('x_1')(t)\n",
    "phi0 = sym.Function('phi_0')(t, t0)\n",
    "phi1 = sym.Function('phi_1')(t, t0)\n",
    "phi2 = sym.Function('phi_2')(t, t0)\n",
    "phi3 = sym.Function('phi_3')(t, t0)\n",
    "A0 = sym.Function('A_0')(t)\n",
    "A1 = sym.Function('A_1')(t)\n",
    "A2 = sym.Function('A_2')(t)\n",
    "A3 = sym.Function('A_3')(t)\n",
    "\n",
    "x = sym.Matrix([x0, x1])\n",
    "phi = sym.Matrix([[phi0,phi1],[phi2,phi3]])\n",
    "A = sym.Matrix([[A0, A1],[A2, A3]])"
   ]
  },
  {
   "cell_type": "code",
   "execution_count": 4,
   "metadata": {},
   "outputs": [],
   "source": [
    "A = sym.Matrix([[-1,0],[1,2]])\n",
    "xdot = A * x\n",
    "phidot = A *phi\n",
    "xdot_lam = sym.lambdify([t,x], xdot)\n",
    "phidot_lam = sym.lambdify([t, phi], phidot)\n",
    "# qdot = sym.lambdify([t, [*x, *phi]], sym.Array([xdot, phidot]))\n",
    "\n",
    "def qdot(t, q):\n",
    "    x = q[:2]\n",
    "    phi = q[2:]\n",
    "    xnew = xdot_lam(t, x)\n",
    "    phinew = phidot_lam(t, phi)\n",
    "    return (np.concatenate((xnew.flatten(), phinew.flatten())))"
   ]
  },
  {
   "cell_type": "code",
   "execution_count": 5,
   "metadata": {},
   "outputs": [],
   "source": [
    "x_init = np.array([1,1])\n",
    "phi_init = np.eye(2).flatten()"
   ]
  },
  {
   "cell_type": "code",
   "execution_count": 6,
   "metadata": {},
   "outputs": [],
   "source": [
    "ans = solve_ivp(qdot, (0,1), np.concatenate((x_init, phi_init)), max_step=.01)"
   ]
  },
  {
   "cell_type": "code",
   "execution_count": 7,
   "metadata": {},
   "outputs": [
    {
     "data": {
      "text/plain": [
       "(6, 102)"
      ]
     },
     "execution_count": 7,
     "metadata": {},
     "output_type": "execute_result"
    }
   ],
   "source": [
    "ans.y.shape"
   ]
  },
  {
   "cell_type": "code",
   "execution_count": 8,
   "metadata": {},
   "outputs": [],
   "source": [
    "t_index_closest = np.where(ans.t > .5)[0][0]"
   ]
  },
  {
   "cell_type": "code",
   "execution_count": 9,
   "metadata": {},
   "outputs": [],
   "source": [
    "x_ans = ans.y[:2,t_index_closest ]"
   ]
  },
  {
   "cell_type": "code",
   "execution_count": 10,
   "metadata": {},
   "outputs": [
    {
     "data": {
      "text/plain": [
       "array([0.60532003, 3.43711432])"
      ]
     },
     "execution_count": 10,
     "metadata": {},
     "output_type": "execute_result"
    }
   ],
   "source": [
    "x_ans"
   ]
  },
  {
   "cell_type": "code",
   "execution_count": 11,
   "metadata": {},
   "outputs": [],
   "source": [
    "phi_ans = ans.y[2:, t_index_closest]"
   ]
  },
  {
   "cell_type": "code",
   "execution_count": 12,
   "metadata": {},
   "outputs": [
    {
     "data": {
      "text/plain": [
       "array([0.60532003, 0.        , 0.70794857, 2.72916574])"
      ]
     },
     "execution_count": 12,
     "metadata": {},
     "output_type": "execute_result"
    }
   ],
   "source": [
    "phi_ans"
   ]
  },
  {
   "cell_type": "code",
   "execution_count": 13,
   "metadata": {},
   "outputs": [
    {
     "data": {
      "text/plain": [
       "array([0.60532003, 3.43711432])"
      ]
     },
     "execution_count": 13,
     "metadata": {},
     "output_type": "execute_result"
    }
   ],
   "source": [
    "np.matmul(phi_ans.reshape(2,2), x_init)"
   ]
  },
  {
   "cell_type": "markdown",
   "metadata": {},
   "source": [
    "## Problem 2\n",
    "\n",
    "same deal but start at terminal end of things\n",
    "Show that the STM solves the ODE $\\dot{p} = Ap$ with $p(0.t) = p_T$ and $A = \\begin{bmatrix} -1 & 0 \\\\ 1 & 2 \\end{bmatrix}$ and $p_t = \\begin{bmatrix} 1 \\\\ 1 \\end{bmatrix} $\n",
    "\n",
    "Turn on solution for $p(0)$ and $\\phi(0.5)^{-1}p_T$ "
   ]
  },
  {
   "cell_type": "code",
   "execution_count": 14,
   "metadata": {},
   "outputs": [],
   "source": [
    "t, t0 = sym.symbols('t t_0')\n",
    "p0 = sym.Function('p_0')(t)\n",
    "p1 = sym.Function('p_1')(t)\n",
    "phi0 = sym.Function('phi_0')(t, t0)\n",
    "phi1 = sym.Function('phi_1')(t, t0)\n",
    "phi2 = sym.Function('phi_2')(t, t0)\n",
    "phi3 = sym.Function('phi_3')(t, t0)\n",
    "A0 = sym.Function('A_0')(t)\n",
    "A1 = sym.Function('A_1')(t)\n",
    "A2 = sym.Function('A_2')(t)\n",
    "A3 = sym.Function('A_3')(t)\n",
    "\n",
    "p = sym.Matrix([p0, p1])\n",
    "phi = sym.Matrix([[phi0,phi1],[phi2,phi3]])\n",
    "A = sym.Matrix([[-1,0],[1,2]])\n",
    "\n",
    "pdot = A * p\n",
    "phidot = A *phi\n",
    "pdot_lam = sym.lambdify([t,p], pdot)\n",
    "phidot_lam = sym.lambdify([t, phi], phidot)\n",
    "\n",
    "def qdot(t, q):\n",
    "    p = q[:2]\n",
    "    phi = q[2:]\n",
    "    pnew = xdot_lam(t, p)\n",
    "    phinew = phidot_lam(t, phi)\n",
    "    return (np.concatenate((pnew.flatten(), phinew.flatten())))"
   ]
  },
  {
   "cell_type": "code",
   "execution_count": 15,
   "metadata": {},
   "outputs": [],
   "source": [
    "p_fin = np.array([1,1])\n",
    "phi_init = np.eye(2).flatten()"
   ]
  },
  {
   "cell_type": "code",
   "execution_count": 16,
   "metadata": {},
   "outputs": [],
   "source": [
    "ans = solve_ivp(qdot, (.5,0), np.concatenate((p_fin, phi_init)), max_step=.01)"
   ]
  },
  {
   "cell_type": "code",
   "execution_count": 17,
   "metadata": {},
   "outputs": [
    {
     "data": {
      "text/plain": [
       "array([ 1.64872127, -0.05906784])"
      ]
     },
     "execution_count": 17,
     "metadata": {},
     "output_type": "execute_result"
    }
   ],
   "source": [
    "p_0 = ans.y[:2,-1]\n",
    "p_0"
   ]
  },
  {
   "cell_type": "code",
   "execution_count": 18,
   "metadata": {},
   "outputs": [
    {
     "data": {
      "text/plain": [
       "array([ 1.64872127,  0.        , -0.42694728,  0.36787944])"
      ]
     },
     "execution_count": 18,
     "metadata": {},
     "output_type": "execute_result"
    }
   ],
   "source": [
    "phi_ans = ans.y[2:, t_index_closest]\n",
    "phi_ans"
   ]
  },
  {
   "cell_type": "code",
   "execution_count": 19,
   "metadata": {},
   "outputs": [
    {
     "data": {
      "text/plain": [
       "array([ 1.64872127, -0.05906784])"
      ]
     },
     "execution_count": 19,
     "metadata": {},
     "output_type": "execute_result"
    }
   ],
   "source": [
    "np.matmul(phi_ans.reshape(2,2), p_fin)"
   ]
  },
  {
   "cell_type": "markdown",
   "metadata": {},
   "source": [
    "## Problem 3\n",
    "Compute effort, $u(t)$ that minimizes the cost function $J$ subject to constraint $\\dot{x}$ by solving the Two Point Boundary Value Problem.\n",
    "\n",
    "Plot $x(t)$ and $u(t)$ over time"
   ]
  },
  {
   "cell_type": "code",
   "execution_count": 163,
   "metadata": {},
   "outputs": [],
   "source": [
    "Q = sym.Matrix([[2,0],[0,0.01]])\n",
    "R = sym.Matrix([0.1])\n",
    "P1 = sym.Matrix([[1,0],[0,0.01]])\n",
    "\n",
    "t, gamma, T = sym.symbols('t gamma T')\n",
    "x0 = sym.Function('x_0')(t)\n",
    "x1 = sym.Function('x_1')(t)\n",
    "z0 = sym.Function('z_0')(t)\n",
    "z1 = sym.Function('z_1')(t)\n",
    "\n",
    "x = sym.Matrix([x0, x1])\n",
    "z = sym.Matrix([z0, z1])\n",
    "\n",
    "x_fin = sym.MatrixSymbol('x(T)', 2, 1).as_explicit()\n",
    "z_fin = sym.MatrixSymbol('z(T)', 2, 1).as_explicit()\n",
    "x_init = sym.Matrix([10,0])\n",
    "z_init = np.zeros((2,1))\n",
    "\n",
    "u0 = sym.Function('u_0')(t)\n",
    "v0 = sym.Function('v_0')(t)\n",
    "\n",
    "# u1 = sym.Function('u_1')(t)\n",
    "u = sym.Matrix([u0])\n",
    "v = sym.Matrix([v0])"
   ]
  },
  {
   "cell_type": "code",
   "execution_count": 164,
   "metadata": {},
   "outputs": [],
   "source": [
    "cost_integrand = x.T * Q * x + u.T * R * u  \n",
    "cost_eq = sym.Rational(1,2) * sym.integrate(cost_integrand, (t, 0, 10)) + sym.Rational(1,2) * x_fin.T * P1 * x_fin"
   ]
  },
  {
   "cell_type": "code",
   "execution_count": 165,
   "metadata": {},
   "outputs": [],
   "source": [
    "A = sym.Matrix([[0,1],[-1.6,-0.4]])\n",
    "B = sym.Matrix([0,1]) \n",
    "#f(x,u)\n",
    "xdot = A * x + B * u #f"
   ]
  },
  {
   "cell_type": "code",
   "execution_count": 166,
   "metadata": {},
   "outputs": [],
   "source": [
    "p = sym.Matrix([sym.Function('p_1')(t), sym.Function('p_0')(t)])\n",
    "p_fin = sym.MatrixSymbol('p_{1}', 2, 1).as_explicit()\n",
    "\n",
    "pdot = -A.T * p - Q*x"
   ]
  },
  {
   "cell_type": "code",
   "execution_count": 167,
   "metadata": {},
   "outputs": [],
   "source": [
    "qdot = sym.Matrix([[A, -B * R.inv() * B.T], [-Q, -A.T]]) * sym.Matrix([x,p])\n",
    "q_init = sym.Matrix([x_init, p_fin])\n",
    "q = sym.Matrix([x, p])\n"
   ]
  },
  {
   "cell_type": "code",
   "execution_count": 168,
   "metadata": {},
   "outputs": [],
   "source": [
    "qdot_lam = sym.lambdify([t, q],qdot)\n",
    "def qdot(t, q):\n",
    "    return np.squeeze(qdot_lam(t, q).reshape(4,-1,1))"
   ]
  },
  {
   "cell_type": "code",
   "execution_count": 169,
   "metadata": {},
   "outputs": [
    {
     "data": {
      "text/plain": [
       "(2,)"
      ]
     },
     "execution_count": 169,
     "metadata": {},
     "output_type": "execute_result"
    }
   ],
   "source": [
    "np.squeeze(x_init).shape"
   ]
  },
  {
   "cell_type": "code",
   "execution_count": 170,
   "metadata": {},
   "outputs": [],
   "source": [
    "def bc(x_a, x_b):\n",
    "    #a = t_0, #b = T\n",
    "    \n",
    "    #check x against known inital\n",
    "#     x_err = np.expand_dims(x_a[:2],1) - np.array(x_init)\n",
    "    x_err = x_a[:2] - np.squeeze(x_init)\n",
    "    \n",
    "#     print(x_err.shape)\n",
    "    #check p against known final\n",
    "    x_fin = x_b[:2]\n",
    "    p_fin = x_b[2:] \n",
    "    #p1 = P1.T * x(T)\n",
    "    p1 = np.matmul(np.array(P1.T), x_fin)\n",
    "    \n",
    "#     p_err = np.expand_dims(p_fin - p1,1)\n",
    "    p_err = p_fin - p1\n",
    "    \n",
    "#     print(x_err.shape)\n",
    "#     print(p_err.shape)\n",
    "    return np.concatenate((x_err, p_err))\n",
    "#     return np.squeeze(np.concatenate((x_err, p_err)))\n",
    "\n",
    "    "
   ]
  },
  {
   "cell_type": "code",
   "execution_count": 171,
   "metadata": {},
   "outputs": [
    {
     "data": {
      "text/plain": [
       "(4,)"
      ]
     },
     "execution_count": 171,
     "metadata": {},
     "output_type": "execute_result"
    }
   ],
   "source": [
    "bc(np.arange(4),np.arange(4)).shape"
   ]
  },
  {
   "cell_type": "code",
   "execution_count": 172,
   "metadata": {},
   "outputs": [],
   "source": [
    "tspan = np.linspace(0,10,100)\n",
    "ya = np.concatenate((np.array([[*x_init, 0,0]]),np.zeros((4, 99)).T)).T\n",
    "ans = solve_bvp(fun=qdot,bc=bc, x=tspan, y=ya)"
   ]
  },
  {
   "cell_type": "code",
   "execution_count": 173,
   "metadata": {},
   "outputs": [
    {
     "data": {
      "text/plain": [
       "(100,)"
      ]
     },
     "execution_count": 173,
     "metadata": {},
     "output_type": "execute_result"
    }
   ],
   "source": [
    "ans.x.shape"
   ]
  },
  {
   "cell_type": "code",
   "execution_count": 174,
   "metadata": {},
   "outputs": [
    {
     "data": {
      "text/plain": [
       "(4, 100)"
      ]
     },
     "execution_count": 174,
     "metadata": {},
     "output_type": "execute_result"
    }
   ],
   "source": [
    "ans.y.shape"
   ]
  },
  {
   "cell_type": "code",
   "execution_count": 180,
   "metadata": {},
   "outputs": [],
   "source": [
    "u = np.matmul(np.array(-R.inv() * B.T), ans.y[2:])"
   ]
  },
  {
   "cell_type": "code",
   "execution_count": 181,
   "metadata": {},
   "outputs": [
    {
     "data": {
      "text/plain": [
       "(1, 100)"
      ]
     },
     "execution_count": 181,
     "metadata": {},
     "output_type": "execute_result"
    }
   ],
   "source": [
    "u.shape"
   ]
  },
  {
   "cell_type": "code",
   "execution_count": 184,
   "metadata": {},
   "outputs": [
    {
     "data": {
      "application/javascript": [
       "/* Put everything inside the global mpl namespace */\n",
       "window.mpl = {};\n",
       "\n",
       "\n",
       "mpl.get_websocket_type = function() {\n",
       "    if (typeof(WebSocket) !== 'undefined') {\n",
       "        return WebSocket;\n",
       "    } else if (typeof(MozWebSocket) !== 'undefined') {\n",
       "        return MozWebSocket;\n",
       "    } else {\n",
       "        alert('Your browser does not have WebSocket support. ' +\n",
       "              'Please try Chrome, Safari or Firefox ≥ 6. ' +\n",
       "              'Firefox 4 and 5 are also supported but you ' +\n",
       "              'have to enable WebSockets in about:config.');\n",
       "    };\n",
       "}\n",
       "\n",
       "mpl.figure = function(figure_id, websocket, ondownload, parent_element) {\n",
       "    this.id = figure_id;\n",
       "\n",
       "    this.ws = websocket;\n",
       "\n",
       "    this.supports_binary = (this.ws.binaryType != undefined);\n",
       "\n",
       "    if (!this.supports_binary) {\n",
       "        var warnings = document.getElementById(\"mpl-warnings\");\n",
       "        if (warnings) {\n",
       "            warnings.style.display = 'block';\n",
       "            warnings.textContent = (\n",
       "                \"This browser does not support binary websocket messages. \" +\n",
       "                    \"Performance may be slow.\");\n",
       "        }\n",
       "    }\n",
       "\n",
       "    this.imageObj = new Image();\n",
       "\n",
       "    this.context = undefined;\n",
       "    this.message = undefined;\n",
       "    this.canvas = undefined;\n",
       "    this.rubberband_canvas = undefined;\n",
       "    this.rubberband_context = undefined;\n",
       "    this.format_dropdown = undefined;\n",
       "\n",
       "    this.image_mode = 'full';\n",
       "\n",
       "    this.root = $('<div/>');\n",
       "    this._root_extra_style(this.root)\n",
       "    this.root.attr('style', 'display: inline-block');\n",
       "\n",
       "    $(parent_element).append(this.root);\n",
       "\n",
       "    this._init_header(this);\n",
       "    this._init_canvas(this);\n",
       "    this._init_toolbar(this);\n",
       "\n",
       "    var fig = this;\n",
       "\n",
       "    this.waiting = false;\n",
       "\n",
       "    this.ws.onopen =  function () {\n",
       "            fig.send_message(\"supports_binary\", {value: fig.supports_binary});\n",
       "            fig.send_message(\"send_image_mode\", {});\n",
       "            if (mpl.ratio != 1) {\n",
       "                fig.send_message(\"set_dpi_ratio\", {'dpi_ratio': mpl.ratio});\n",
       "            }\n",
       "            fig.send_message(\"refresh\", {});\n",
       "        }\n",
       "\n",
       "    this.imageObj.onload = function() {\n",
       "            if (fig.image_mode == 'full') {\n",
       "                // Full images could contain transparency (where diff images\n",
       "                // almost always do), so we need to clear the canvas so that\n",
       "                // there is no ghosting.\n",
       "                fig.context.clearRect(0, 0, fig.canvas.width, fig.canvas.height);\n",
       "            }\n",
       "            fig.context.drawImage(fig.imageObj, 0, 0);\n",
       "        };\n",
       "\n",
       "    this.imageObj.onunload = function() {\n",
       "        fig.ws.close();\n",
       "    }\n",
       "\n",
       "    this.ws.onmessage = this._make_on_message_function(this);\n",
       "\n",
       "    this.ondownload = ondownload;\n",
       "}\n",
       "\n",
       "mpl.figure.prototype._init_header = function() {\n",
       "    var titlebar = $(\n",
       "        '<div class=\"ui-dialog-titlebar ui-widget-header ui-corner-all ' +\n",
       "        'ui-helper-clearfix\"/>');\n",
       "    var titletext = $(\n",
       "        '<div class=\"ui-dialog-title\" style=\"width: 100%; ' +\n",
       "        'text-align: center; padding: 3px;\"/>');\n",
       "    titlebar.append(titletext)\n",
       "    this.root.append(titlebar);\n",
       "    this.header = titletext[0];\n",
       "}\n",
       "\n",
       "\n",
       "\n",
       "mpl.figure.prototype._canvas_extra_style = function(canvas_div) {\n",
       "\n",
       "}\n",
       "\n",
       "\n",
       "mpl.figure.prototype._root_extra_style = function(canvas_div) {\n",
       "\n",
       "}\n",
       "\n",
       "mpl.figure.prototype._init_canvas = function() {\n",
       "    var fig = this;\n",
       "\n",
       "    var canvas_div = $('<div/>');\n",
       "\n",
       "    canvas_div.attr('style', 'position: relative; clear: both; outline: 0');\n",
       "\n",
       "    function canvas_keyboard_event(event) {\n",
       "        return fig.key_event(event, event['data']);\n",
       "    }\n",
       "\n",
       "    canvas_div.keydown('key_press', canvas_keyboard_event);\n",
       "    canvas_div.keyup('key_release', canvas_keyboard_event);\n",
       "    this.canvas_div = canvas_div\n",
       "    this._canvas_extra_style(canvas_div)\n",
       "    this.root.append(canvas_div);\n",
       "\n",
       "    var canvas = $('<canvas/>');\n",
       "    canvas.addClass('mpl-canvas');\n",
       "    canvas.attr('style', \"left: 0; top: 0; z-index: 0; outline: 0\")\n",
       "\n",
       "    this.canvas = canvas[0];\n",
       "    this.context = canvas[0].getContext(\"2d\");\n",
       "\n",
       "    var backingStore = this.context.backingStorePixelRatio ||\n",
       "\tthis.context.webkitBackingStorePixelRatio ||\n",
       "\tthis.context.mozBackingStorePixelRatio ||\n",
       "\tthis.context.msBackingStorePixelRatio ||\n",
       "\tthis.context.oBackingStorePixelRatio ||\n",
       "\tthis.context.backingStorePixelRatio || 1;\n",
       "\n",
       "    mpl.ratio = (window.devicePixelRatio || 1) / backingStore;\n",
       "\n",
       "    var rubberband = $('<canvas/>');\n",
       "    rubberband.attr('style', \"position: absolute; left: 0; top: 0; z-index: 1;\")\n",
       "\n",
       "    var pass_mouse_events = true;\n",
       "\n",
       "    canvas_div.resizable({\n",
       "        start: function(event, ui) {\n",
       "            pass_mouse_events = false;\n",
       "        },\n",
       "        resize: function(event, ui) {\n",
       "            fig.request_resize(ui.size.width, ui.size.height);\n",
       "        },\n",
       "        stop: function(event, ui) {\n",
       "            pass_mouse_events = true;\n",
       "            fig.request_resize(ui.size.width, ui.size.height);\n",
       "        },\n",
       "    });\n",
       "\n",
       "    function mouse_event_fn(event) {\n",
       "        if (pass_mouse_events)\n",
       "            return fig.mouse_event(event, event['data']);\n",
       "    }\n",
       "\n",
       "    rubberband.mousedown('button_press', mouse_event_fn);\n",
       "    rubberband.mouseup('button_release', mouse_event_fn);\n",
       "    // Throttle sequential mouse events to 1 every 20ms.\n",
       "    rubberband.mousemove('motion_notify', mouse_event_fn);\n",
       "\n",
       "    rubberband.mouseenter('figure_enter', mouse_event_fn);\n",
       "    rubberband.mouseleave('figure_leave', mouse_event_fn);\n",
       "\n",
       "    canvas_div.on(\"wheel\", function (event) {\n",
       "        event = event.originalEvent;\n",
       "        event['data'] = 'scroll'\n",
       "        if (event.deltaY < 0) {\n",
       "            event.step = 1;\n",
       "        } else {\n",
       "            event.step = -1;\n",
       "        }\n",
       "        mouse_event_fn(event);\n",
       "    });\n",
       "\n",
       "    canvas_div.append(canvas);\n",
       "    canvas_div.append(rubberband);\n",
       "\n",
       "    this.rubberband = rubberband;\n",
       "    this.rubberband_canvas = rubberband[0];\n",
       "    this.rubberband_context = rubberband[0].getContext(\"2d\");\n",
       "    this.rubberband_context.strokeStyle = \"#000000\";\n",
       "\n",
       "    this._resize_canvas = function(width, height) {\n",
       "        // Keep the size of the canvas, canvas container, and rubber band\n",
       "        // canvas in synch.\n",
       "        canvas_div.css('width', width)\n",
       "        canvas_div.css('height', height)\n",
       "\n",
       "        canvas.attr('width', width * mpl.ratio);\n",
       "        canvas.attr('height', height * mpl.ratio);\n",
       "        canvas.attr('style', 'width: ' + width + 'px; height: ' + height + 'px;');\n",
       "\n",
       "        rubberband.attr('width', width);\n",
       "        rubberband.attr('height', height);\n",
       "    }\n",
       "\n",
       "    // Set the figure to an initial 600x600px, this will subsequently be updated\n",
       "    // upon first draw.\n",
       "    this._resize_canvas(600, 600);\n",
       "\n",
       "    // Disable right mouse context menu.\n",
       "    $(this.rubberband_canvas).bind(\"contextmenu\",function(e){\n",
       "        return false;\n",
       "    });\n",
       "\n",
       "    function set_focus () {\n",
       "        canvas.focus();\n",
       "        canvas_div.focus();\n",
       "    }\n",
       "\n",
       "    window.setTimeout(set_focus, 100);\n",
       "}\n",
       "\n",
       "mpl.figure.prototype._init_toolbar = function() {\n",
       "    var fig = this;\n",
       "\n",
       "    var nav_element = $('<div/>');\n",
       "    nav_element.attr('style', 'width: 100%');\n",
       "    this.root.append(nav_element);\n",
       "\n",
       "    // Define a callback function for later on.\n",
       "    function toolbar_event(event) {\n",
       "        return fig.toolbar_button_onclick(event['data']);\n",
       "    }\n",
       "    function toolbar_mouse_event(event) {\n",
       "        return fig.toolbar_button_onmouseover(event['data']);\n",
       "    }\n",
       "\n",
       "    for(var toolbar_ind in mpl.toolbar_items) {\n",
       "        var name = mpl.toolbar_items[toolbar_ind][0];\n",
       "        var tooltip = mpl.toolbar_items[toolbar_ind][1];\n",
       "        var image = mpl.toolbar_items[toolbar_ind][2];\n",
       "        var method_name = mpl.toolbar_items[toolbar_ind][3];\n",
       "\n",
       "        if (!name) {\n",
       "            // put a spacer in here.\n",
       "            continue;\n",
       "        }\n",
       "        var button = $('<button/>');\n",
       "        button.addClass('ui-button ui-widget ui-state-default ui-corner-all ' +\n",
       "                        'ui-button-icon-only');\n",
       "        button.attr('role', 'button');\n",
       "        button.attr('aria-disabled', 'false');\n",
       "        button.click(method_name, toolbar_event);\n",
       "        button.mouseover(tooltip, toolbar_mouse_event);\n",
       "\n",
       "        var icon_img = $('<span/>');\n",
       "        icon_img.addClass('ui-button-icon-primary ui-icon');\n",
       "        icon_img.addClass(image);\n",
       "        icon_img.addClass('ui-corner-all');\n",
       "\n",
       "        var tooltip_span = $('<span/>');\n",
       "        tooltip_span.addClass('ui-button-text');\n",
       "        tooltip_span.html(tooltip);\n",
       "\n",
       "        button.append(icon_img);\n",
       "        button.append(tooltip_span);\n",
       "\n",
       "        nav_element.append(button);\n",
       "    }\n",
       "\n",
       "    var fmt_picker_span = $('<span/>');\n",
       "\n",
       "    var fmt_picker = $('<select/>');\n",
       "    fmt_picker.addClass('mpl-toolbar-option ui-widget ui-widget-content');\n",
       "    fmt_picker_span.append(fmt_picker);\n",
       "    nav_element.append(fmt_picker_span);\n",
       "    this.format_dropdown = fmt_picker[0];\n",
       "\n",
       "    for (var ind in mpl.extensions) {\n",
       "        var fmt = mpl.extensions[ind];\n",
       "        var option = $(\n",
       "            '<option/>', {selected: fmt === mpl.default_extension}).html(fmt);\n",
       "        fmt_picker.append(option);\n",
       "    }\n",
       "\n",
       "    // Add hover states to the ui-buttons\n",
       "    $( \".ui-button\" ).hover(\n",
       "        function() { $(this).addClass(\"ui-state-hover\");},\n",
       "        function() { $(this).removeClass(\"ui-state-hover\");}\n",
       "    );\n",
       "\n",
       "    var status_bar = $('<span class=\"mpl-message\"/>');\n",
       "    nav_element.append(status_bar);\n",
       "    this.message = status_bar[0];\n",
       "}\n",
       "\n",
       "mpl.figure.prototype.request_resize = function(x_pixels, y_pixels) {\n",
       "    // Request matplotlib to resize the figure. Matplotlib will then trigger a resize in the client,\n",
       "    // which will in turn request a refresh of the image.\n",
       "    this.send_message('resize', {'width': x_pixels, 'height': y_pixels});\n",
       "}\n",
       "\n",
       "mpl.figure.prototype.send_message = function(type, properties) {\n",
       "    properties['type'] = type;\n",
       "    properties['figure_id'] = this.id;\n",
       "    this.ws.send(JSON.stringify(properties));\n",
       "}\n",
       "\n",
       "mpl.figure.prototype.send_draw_message = function() {\n",
       "    if (!this.waiting) {\n",
       "        this.waiting = true;\n",
       "        this.ws.send(JSON.stringify({type: \"draw\", figure_id: this.id}));\n",
       "    }\n",
       "}\n",
       "\n",
       "\n",
       "mpl.figure.prototype.handle_save = function(fig, msg) {\n",
       "    var format_dropdown = fig.format_dropdown;\n",
       "    var format = format_dropdown.options[format_dropdown.selectedIndex].value;\n",
       "    fig.ondownload(fig, format);\n",
       "}\n",
       "\n",
       "\n",
       "mpl.figure.prototype.handle_resize = function(fig, msg) {\n",
       "    var size = msg['size'];\n",
       "    if (size[0] != fig.canvas.width || size[1] != fig.canvas.height) {\n",
       "        fig._resize_canvas(size[0], size[1]);\n",
       "        fig.send_message(\"refresh\", {});\n",
       "    };\n",
       "}\n",
       "\n",
       "mpl.figure.prototype.handle_rubberband = function(fig, msg) {\n",
       "    var x0 = msg['x0'] / mpl.ratio;\n",
       "    var y0 = (fig.canvas.height - msg['y0']) / mpl.ratio;\n",
       "    var x1 = msg['x1'] / mpl.ratio;\n",
       "    var y1 = (fig.canvas.height - msg['y1']) / mpl.ratio;\n",
       "    x0 = Math.floor(x0) + 0.5;\n",
       "    y0 = Math.floor(y0) + 0.5;\n",
       "    x1 = Math.floor(x1) + 0.5;\n",
       "    y1 = Math.floor(y1) + 0.5;\n",
       "    var min_x = Math.min(x0, x1);\n",
       "    var min_y = Math.min(y0, y1);\n",
       "    var width = Math.abs(x1 - x0);\n",
       "    var height = Math.abs(y1 - y0);\n",
       "\n",
       "    fig.rubberband_context.clearRect(\n",
       "        0, 0, fig.canvas.width / mpl.ratio, fig.canvas.height / mpl.ratio);\n",
       "\n",
       "    fig.rubberband_context.strokeRect(min_x, min_y, width, height);\n",
       "}\n",
       "\n",
       "mpl.figure.prototype.handle_figure_label = function(fig, msg) {\n",
       "    // Updates the figure title.\n",
       "    fig.header.textContent = msg['label'];\n",
       "}\n",
       "\n",
       "mpl.figure.prototype.handle_cursor = function(fig, msg) {\n",
       "    var cursor = msg['cursor'];\n",
       "    switch(cursor)\n",
       "    {\n",
       "    case 0:\n",
       "        cursor = 'pointer';\n",
       "        break;\n",
       "    case 1:\n",
       "        cursor = 'default';\n",
       "        break;\n",
       "    case 2:\n",
       "        cursor = 'crosshair';\n",
       "        break;\n",
       "    case 3:\n",
       "        cursor = 'move';\n",
       "        break;\n",
       "    }\n",
       "    fig.rubberband_canvas.style.cursor = cursor;\n",
       "}\n",
       "\n",
       "mpl.figure.prototype.handle_message = function(fig, msg) {\n",
       "    fig.message.textContent = msg['message'];\n",
       "}\n",
       "\n",
       "mpl.figure.prototype.handle_draw = function(fig, msg) {\n",
       "    // Request the server to send over a new figure.\n",
       "    fig.send_draw_message();\n",
       "}\n",
       "\n",
       "mpl.figure.prototype.handle_image_mode = function(fig, msg) {\n",
       "    fig.image_mode = msg['mode'];\n",
       "}\n",
       "\n",
       "mpl.figure.prototype.updated_canvas_event = function() {\n",
       "    // Called whenever the canvas gets updated.\n",
       "    this.send_message(\"ack\", {});\n",
       "}\n",
       "\n",
       "// A function to construct a web socket function for onmessage handling.\n",
       "// Called in the figure constructor.\n",
       "mpl.figure.prototype._make_on_message_function = function(fig) {\n",
       "    return function socket_on_message(evt) {\n",
       "        if (evt.data instanceof Blob) {\n",
       "            /* FIXME: We get \"Resource interpreted as Image but\n",
       "             * transferred with MIME type text/plain:\" errors on\n",
       "             * Chrome.  But how to set the MIME type?  It doesn't seem\n",
       "             * to be part of the websocket stream */\n",
       "            evt.data.type = \"image/png\";\n",
       "\n",
       "            /* Free the memory for the previous frames */\n",
       "            if (fig.imageObj.src) {\n",
       "                (window.URL || window.webkitURL).revokeObjectURL(\n",
       "                    fig.imageObj.src);\n",
       "            }\n",
       "\n",
       "            fig.imageObj.src = (window.URL || window.webkitURL).createObjectURL(\n",
       "                evt.data);\n",
       "            fig.updated_canvas_event();\n",
       "            fig.waiting = false;\n",
       "            return;\n",
       "        }\n",
       "        else if (typeof evt.data === 'string' && evt.data.slice(0, 21) == \"data:image/png;base64\") {\n",
       "            fig.imageObj.src = evt.data;\n",
       "            fig.updated_canvas_event();\n",
       "            fig.waiting = false;\n",
       "            return;\n",
       "        }\n",
       "\n",
       "        var msg = JSON.parse(evt.data);\n",
       "        var msg_type = msg['type'];\n",
       "\n",
       "        // Call the  \"handle_{type}\" callback, which takes\n",
       "        // the figure and JSON message as its only arguments.\n",
       "        try {\n",
       "            var callback = fig[\"handle_\" + msg_type];\n",
       "        } catch (e) {\n",
       "            console.log(\"No handler for the '\" + msg_type + \"' message type: \", msg);\n",
       "            return;\n",
       "        }\n",
       "\n",
       "        if (callback) {\n",
       "            try {\n",
       "                // console.log(\"Handling '\" + msg_type + \"' message: \", msg);\n",
       "                callback(fig, msg);\n",
       "            } catch (e) {\n",
       "                console.log(\"Exception inside the 'handler_\" + msg_type + \"' callback:\", e, e.stack, msg);\n",
       "            }\n",
       "        }\n",
       "    };\n",
       "}\n",
       "\n",
       "// from http://stackoverflow.com/questions/1114465/getting-mouse-location-in-canvas\n",
       "mpl.findpos = function(e) {\n",
       "    //this section is from http://www.quirksmode.org/js/events_properties.html\n",
       "    var targ;\n",
       "    if (!e)\n",
       "        e = window.event;\n",
       "    if (e.target)\n",
       "        targ = e.target;\n",
       "    else if (e.srcElement)\n",
       "        targ = e.srcElement;\n",
       "    if (targ.nodeType == 3) // defeat Safari bug\n",
       "        targ = targ.parentNode;\n",
       "\n",
       "    // jQuery normalizes the pageX and pageY\n",
       "    // pageX,Y are the mouse positions relative to the document\n",
       "    // offset() returns the position of the element relative to the document\n",
       "    var x = e.pageX - $(targ).offset().left;\n",
       "    var y = e.pageY - $(targ).offset().top;\n",
       "\n",
       "    return {\"x\": x, \"y\": y};\n",
       "};\n",
       "\n",
       "/*\n",
       " * return a copy of an object with only non-object keys\n",
       " * we need this to avoid circular references\n",
       " * http://stackoverflow.com/a/24161582/3208463\n",
       " */\n",
       "function simpleKeys (original) {\n",
       "  return Object.keys(original).reduce(function (obj, key) {\n",
       "    if (typeof original[key] !== 'object')\n",
       "        obj[key] = original[key]\n",
       "    return obj;\n",
       "  }, {});\n",
       "}\n",
       "\n",
       "mpl.figure.prototype.mouse_event = function(event, name) {\n",
       "    var canvas_pos = mpl.findpos(event)\n",
       "\n",
       "    if (name === 'button_press')\n",
       "    {\n",
       "        this.canvas.focus();\n",
       "        this.canvas_div.focus();\n",
       "    }\n",
       "\n",
       "    var x = canvas_pos.x * mpl.ratio;\n",
       "    var y = canvas_pos.y * mpl.ratio;\n",
       "\n",
       "    this.send_message(name, {x: x, y: y, button: event.button,\n",
       "                             step: event.step,\n",
       "                             guiEvent: simpleKeys(event)});\n",
       "\n",
       "    /* This prevents the web browser from automatically changing to\n",
       "     * the text insertion cursor when the button is pressed.  We want\n",
       "     * to control all of the cursor setting manually through the\n",
       "     * 'cursor' event from matplotlib */\n",
       "    event.preventDefault();\n",
       "    return false;\n",
       "}\n",
       "\n",
       "mpl.figure.prototype._key_event_extra = function(event, name) {\n",
       "    // Handle any extra behaviour associated with a key event\n",
       "}\n",
       "\n",
       "mpl.figure.prototype.key_event = function(event, name) {\n",
       "\n",
       "    // Prevent repeat events\n",
       "    if (name == 'key_press')\n",
       "    {\n",
       "        if (event.which === this._key)\n",
       "            return;\n",
       "        else\n",
       "            this._key = event.which;\n",
       "    }\n",
       "    if (name == 'key_release')\n",
       "        this._key = null;\n",
       "\n",
       "    var value = '';\n",
       "    if (event.ctrlKey && event.which != 17)\n",
       "        value += \"ctrl+\";\n",
       "    if (event.altKey && event.which != 18)\n",
       "        value += \"alt+\";\n",
       "    if (event.shiftKey && event.which != 16)\n",
       "        value += \"shift+\";\n",
       "\n",
       "    value += 'k';\n",
       "    value += event.which.toString();\n",
       "\n",
       "    this._key_event_extra(event, name);\n",
       "\n",
       "    this.send_message(name, {key: value,\n",
       "                             guiEvent: simpleKeys(event)});\n",
       "    return false;\n",
       "}\n",
       "\n",
       "mpl.figure.prototype.toolbar_button_onclick = function(name) {\n",
       "    if (name == 'download') {\n",
       "        this.handle_save(this, null);\n",
       "    } else {\n",
       "        this.send_message(\"toolbar_button\", {name: name});\n",
       "    }\n",
       "};\n",
       "\n",
       "mpl.figure.prototype.toolbar_button_onmouseover = function(tooltip) {\n",
       "    this.message.textContent = tooltip;\n",
       "};\n",
       "mpl.toolbar_items = [[\"Home\", \"Reset original view\", \"fa fa-home icon-home\", \"home\"], [\"Back\", \"Back to previous view\", \"fa fa-arrow-left icon-arrow-left\", \"back\"], [\"Forward\", \"Forward to next view\", \"fa fa-arrow-right icon-arrow-right\", \"forward\"], [\"\", \"\", \"\", \"\"], [\"Pan\", \"Pan axes with left mouse, zoom with right\", \"fa fa-arrows icon-move\", \"pan\"], [\"Zoom\", \"Zoom to rectangle\", \"fa fa-square-o icon-check-empty\", \"zoom\"], [\"\", \"\", \"\", \"\"], [\"Download\", \"Download plot\", \"fa fa-floppy-o icon-save\", \"download\"]];\n",
       "\n",
       "mpl.extensions = [\"eps\", \"jpeg\", \"pdf\", \"png\", \"ps\", \"raw\", \"svg\", \"tif\"];\n",
       "\n",
       "mpl.default_extension = \"png\";var comm_websocket_adapter = function(comm) {\n",
       "    // Create a \"websocket\"-like object which calls the given IPython comm\n",
       "    // object with the appropriate methods. Currently this is a non binary\n",
       "    // socket, so there is still some room for performance tuning.\n",
       "    var ws = {};\n",
       "\n",
       "    ws.close = function() {\n",
       "        comm.close()\n",
       "    };\n",
       "    ws.send = function(m) {\n",
       "        //console.log('sending', m);\n",
       "        comm.send(m);\n",
       "    };\n",
       "    // Register the callback with on_msg.\n",
       "    comm.on_msg(function(msg) {\n",
       "        //console.log('receiving', msg['content']['data'], msg);\n",
       "        // Pass the mpl event to the overridden (by mpl) onmessage function.\n",
       "        ws.onmessage(msg['content']['data'])\n",
       "    });\n",
       "    return ws;\n",
       "}\n",
       "\n",
       "mpl.mpl_figure_comm = function(comm, msg) {\n",
       "    // This is the function which gets called when the mpl process\n",
       "    // starts-up an IPython Comm through the \"matplotlib\" channel.\n",
       "\n",
       "    var id = msg.content.data.id;\n",
       "    // Get hold of the div created by the display call when the Comm\n",
       "    // socket was opened in Python.\n",
       "    var element = $(\"#\" + id);\n",
       "    var ws_proxy = comm_websocket_adapter(comm)\n",
       "\n",
       "    function ondownload(figure, format) {\n",
       "        window.open(figure.imageObj.src);\n",
       "    }\n",
       "\n",
       "    var fig = new mpl.figure(id, ws_proxy,\n",
       "                           ondownload,\n",
       "                           element.get(0));\n",
       "\n",
       "    // Call onopen now - mpl needs it, as it is assuming we've passed it a real\n",
       "    // web socket which is closed, not our websocket->open comm proxy.\n",
       "    ws_proxy.onopen();\n",
       "\n",
       "    fig.parent_element = element.get(0);\n",
       "    fig.cell_info = mpl.find_output_cell(\"<div id='\" + id + \"'></div>\");\n",
       "    if (!fig.cell_info) {\n",
       "        console.error(\"Failed to find cell for figure\", id, fig);\n",
       "        return;\n",
       "    }\n",
       "\n",
       "    var output_index = fig.cell_info[2]\n",
       "    var cell = fig.cell_info[0];\n",
       "\n",
       "};\n",
       "\n",
       "mpl.figure.prototype.handle_close = function(fig, msg) {\n",
       "    var width = fig.canvas.width/mpl.ratio\n",
       "    fig.root.unbind('remove')\n",
       "\n",
       "    // Update the output cell to use the data from the current canvas.\n",
       "    fig.push_to_output();\n",
       "    var dataURL = fig.canvas.toDataURL();\n",
       "    // Re-enable the keyboard manager in IPython - without this line, in FF,\n",
       "    // the notebook keyboard shortcuts fail.\n",
       "    IPython.keyboard_manager.enable()\n",
       "    $(fig.parent_element).html('<img src=\"' + dataURL + '\" width=\"' + width + '\">');\n",
       "    fig.close_ws(fig, msg);\n",
       "}\n",
       "\n",
       "mpl.figure.prototype.close_ws = function(fig, msg){\n",
       "    fig.send_message('closing', msg);\n",
       "    // fig.ws.close()\n",
       "}\n",
       "\n",
       "mpl.figure.prototype.push_to_output = function(remove_interactive) {\n",
       "    // Turn the data on the canvas into data in the output cell.\n",
       "    var width = this.canvas.width/mpl.ratio\n",
       "    var dataURL = this.canvas.toDataURL();\n",
       "    this.cell_info[1]['text/html'] = '<img src=\"' + dataURL + '\" width=\"' + width + '\">';\n",
       "}\n",
       "\n",
       "mpl.figure.prototype.updated_canvas_event = function() {\n",
       "    // Tell IPython that the notebook contents must change.\n",
       "    IPython.notebook.set_dirty(true);\n",
       "    this.send_message(\"ack\", {});\n",
       "    var fig = this;\n",
       "    // Wait a second, then push the new image to the DOM so\n",
       "    // that it is saved nicely (might be nice to debounce this).\n",
       "    setTimeout(function () { fig.push_to_output() }, 1000);\n",
       "}\n",
       "\n",
       "mpl.figure.prototype._init_toolbar = function() {\n",
       "    var fig = this;\n",
       "\n",
       "    var nav_element = $('<div/>');\n",
       "    nav_element.attr('style', 'width: 100%');\n",
       "    this.root.append(nav_element);\n",
       "\n",
       "    // Define a callback function for later on.\n",
       "    function toolbar_event(event) {\n",
       "        return fig.toolbar_button_onclick(event['data']);\n",
       "    }\n",
       "    function toolbar_mouse_event(event) {\n",
       "        return fig.toolbar_button_onmouseover(event['data']);\n",
       "    }\n",
       "\n",
       "    for(var toolbar_ind in mpl.toolbar_items){\n",
       "        var name = mpl.toolbar_items[toolbar_ind][0];\n",
       "        var tooltip = mpl.toolbar_items[toolbar_ind][1];\n",
       "        var image = mpl.toolbar_items[toolbar_ind][2];\n",
       "        var method_name = mpl.toolbar_items[toolbar_ind][3];\n",
       "\n",
       "        if (!name) { continue; };\n",
       "\n",
       "        var button = $('<button class=\"btn btn-default\" href=\"#\" title=\"' + name + '\"><i class=\"fa ' + image + ' fa-lg\"></i></button>');\n",
       "        button.click(method_name, toolbar_event);\n",
       "        button.mouseover(tooltip, toolbar_mouse_event);\n",
       "        nav_element.append(button);\n",
       "    }\n",
       "\n",
       "    // Add the status bar.\n",
       "    var status_bar = $('<span class=\"mpl-message\" style=\"text-align:right; float: right;\"/>');\n",
       "    nav_element.append(status_bar);\n",
       "    this.message = status_bar[0];\n",
       "\n",
       "    // Add the close button to the window.\n",
       "    var buttongrp = $('<div class=\"btn-group inline pull-right\"></div>');\n",
       "    var button = $('<button class=\"btn btn-mini btn-primary\" href=\"#\" title=\"Stop Interaction\"><i class=\"fa fa-power-off icon-remove icon-large\"></i></button>');\n",
       "    button.click(function (evt) { fig.handle_close(fig, {}); } );\n",
       "    button.mouseover('Stop Interaction', toolbar_mouse_event);\n",
       "    buttongrp.append(button);\n",
       "    var titlebar = this.root.find($('.ui-dialog-titlebar'));\n",
       "    titlebar.prepend(buttongrp);\n",
       "}\n",
       "\n",
       "mpl.figure.prototype._root_extra_style = function(el){\n",
       "    var fig = this\n",
       "    el.on(\"remove\", function(){\n",
       "\tfig.close_ws(fig, {});\n",
       "    });\n",
       "}\n",
       "\n",
       "mpl.figure.prototype._canvas_extra_style = function(el){\n",
       "    // this is important to make the div 'focusable\n",
       "    el.attr('tabindex', 0)\n",
       "    // reach out to IPython and tell the keyboard manager to turn it's self\n",
       "    // off when our div gets focus\n",
       "\n",
       "    // location in version 3\n",
       "    if (IPython.notebook.keyboard_manager) {\n",
       "        IPython.notebook.keyboard_manager.register_events(el);\n",
       "    }\n",
       "    else {\n",
       "        // location in version 2\n",
       "        IPython.keyboard_manager.register_events(el);\n",
       "    }\n",
       "\n",
       "}\n",
       "\n",
       "mpl.figure.prototype._key_event_extra = function(event, name) {\n",
       "    var manager = IPython.notebook.keyboard_manager;\n",
       "    if (!manager)\n",
       "        manager = IPython.keyboard_manager;\n",
       "\n",
       "    // Check for shift+enter\n",
       "    if (event.shiftKey && event.which == 13) {\n",
       "        this.canvas_div.blur();\n",
       "        // select the cell after this one\n",
       "        var index = IPython.notebook.find_cell_index(this.cell_info[0]);\n",
       "        IPython.notebook.select(index + 1);\n",
       "    }\n",
       "}\n",
       "\n",
       "mpl.figure.prototype.handle_save = function(fig, msg) {\n",
       "    fig.ondownload(fig, null);\n",
       "}\n",
       "\n",
       "\n",
       "mpl.find_output_cell = function(html_output) {\n",
       "    // Return the cell and output element which can be found *uniquely* in the notebook.\n",
       "    // Note - this is a bit hacky, but it is done because the \"notebook_saving.Notebook\"\n",
       "    // IPython event is triggered only after the cells have been serialised, which for\n",
       "    // our purposes (turning an active figure into a static one), is too late.\n",
       "    var cells = IPython.notebook.get_cells();\n",
       "    var ncells = cells.length;\n",
       "    for (var i=0; i<ncells; i++) {\n",
       "        var cell = cells[i];\n",
       "        if (cell.cell_type === 'code'){\n",
       "            for (var j=0; j<cell.output_area.outputs.length; j++) {\n",
       "                var data = cell.output_area.outputs[j];\n",
       "                if (data.data) {\n",
       "                    // IPython >= 3 moved mimebundle to data attribute of output\n",
       "                    data = data.data;\n",
       "                }\n",
       "                if (data['text/html'] == html_output) {\n",
       "                    return [cell, data, j];\n",
       "                }\n",
       "            }\n",
       "        }\n",
       "    }\n",
       "}\n",
       "\n",
       "// Register the function which deals with the matplotlib target/channel.\n",
       "// The kernel may be null if the page has been refreshed.\n",
       "if (IPython.notebook.kernel != null) {\n",
       "    IPython.notebook.kernel.comm_manager.register_target('matplotlib', mpl.mpl_figure_comm);\n",
       "}\n"
      ],
      "text/plain": [
       "<IPython.core.display.Javascript object>"
      ]
     },
     "metadata": {},
     "output_type": "display_data"
    },
    {
     "data": {
      "text/html": [
       "<img src=\"data:image/png;base64,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\" width=\"640\">"
      ],
      "text/plain": [
       "<IPython.core.display.HTML object>"
      ]
     },
     "metadata": {},
     "output_type": "display_data"
    }
   ],
   "source": [
    "plt.figure()\n",
    "plt.plot(ans.x, ans.y[0,:])\n",
    "plt.plot(ans.x, ans.y[1,:])\n",
    "plt.plot(ans.x,u.T)\n",
    "\n",
    "plt.legend([\"x0\", \"x1\", \"u0\", \"u1\"])\n",
    "plt.xlabel(\"t\")\n",
    "plt.title(\"solutions to the TPBVP for x and u vs t\")\n",
    "plt.show()"
   ]
  },
  {
   "cell_type": "markdown",
   "metadata": {},
   "source": [
    "## Problem 4\n",
    "Solve the same system as above except use the Riccati equations instead of TPBVP method"
   ]
  },
  {
   "cell_type": "code",
   "execution_count": 219,
   "metadata": {},
   "outputs": [],
   "source": [
    "P0 = sym.Function(\"P_0\")(t)\n",
    "P1 = sym.Function(\"P_1\")(t)\n",
    "P2 = sym.Function(\"P_2\")(t)\n",
    "P3 = sym.Function(\"P_3\")(t)\n",
    "P = sym.Matrix([[P0, P1],[P2,P3]])\n",
    "Pdot = -P * A - A.T * P + P * B * R.inv() * B.T * P - Q\n",
    "P_fin = sym.Matrix([[1,0],[0,0.01]]) #the real P1\n",
    "Pdot_lam = sym.lambdify([t, sym.flatten(P)], sym.flatten(Pdot))"
   ]
  },
  {
   "cell_type": "code",
   "execution_count": 220,
   "metadata": {},
   "outputs": [],
   "source": [
    "ans = solve_ivp(Pdot_lam, [10,0], sym.flatten(P_fin), max_step=0.1)"
   ]
  },
  {
   "cell_type": "code",
   "execution_count": 234,
   "metadata": {},
   "outputs": [],
   "source": [
    "P_t = ans.y"
   ]
  },
  {
   "cell_type": "code",
   "execution_count": 241,
   "metadata": {},
   "outputs": [],
   "source": [
    "xdot = (A - B * (R.inv() * B.T * P)) *  x"
   ]
  },
  {
   "cell_type": "code",
   "execution_count": 246,
   "metadata": {},
   "outputs": [],
   "source": [
    "qdot = sym.Matrix([sym.Matrix(sym.flatten(xdot)), sym.Matrix(sym.flatten(Pdot))])\n",
    "qdot_lam = sym.lambdify([t, ])"
   ]
  },
  {
   "cell_type": "code",
   "execution_count": 248,
   "metadata": {},
   "outputs": [
    {
     "data": {
      "text/plain": [
       "(6, 1)"
      ]
     },
     "execution_count": 248,
     "metadata": {},
     "output_type": "execute_result"
    }
   ],
   "source": [
    "q = sym.Matrix([sym.Matrix(sym)])"
   ]
  },
  {
   "cell_type": "code",
   "execution_count": null,
   "metadata": {},
   "outputs": [],
   "source": []
  }
 ],
 "metadata": {
  "kernelspec": {
   "display_name": "Python 3",
   "language": "python",
   "name": "python3"
  },
  "language_info": {
   "codemirror_mode": {
    "name": "ipython",
    "version": 3
   },
   "file_extension": ".py",
   "mimetype": "text/x-python",
   "name": "python",
   "nbconvert_exporter": "python",
   "pygments_lexer": "ipython3",
   "version": "3.6.9"
  }
 },
 "nbformat": 4,
 "nbformat_minor": 4
}
